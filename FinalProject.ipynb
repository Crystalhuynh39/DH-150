{
 "cells": [
  {
   "cell_type": "markdown",
   "id": "f7d317d3-1131-4926-99cf-737871a4116c",
   "metadata": {},
   "source": [
    "# The Captivity Chronicles\n",
    "\n",
    "## Digital Humanities 150 Advanced Topics in Digital Humanities: Mediterranean Pirates: Perceptions Past and Present through Computational Text Analysis with Professor Sanders at UCLA Winter 2022\n",
    "\n",
    "### Crystal Huynh, Fontanna Yee, Kedaar Sridhar, Kristina Thabet, Lana Garrett"
   ]
  },
  {
   "cell_type": "code",
   "execution_count": 1,
   "id": "24cd7876-16ea-4f00-9bd9-070593beff1d",
   "metadata": {},
   "outputs": [
    {
     "name": "stderr",
     "output_type": "stream",
     "text": [
      "[nltk_data] Downloading package stopwords to /home/jovyan/nltk_data...\n",
      "[nltk_data]   Package stopwords is already up-to-date!\n",
      "[nltk_data] Downloading package vader_lexicon to\n",
      "[nltk_data]     /home/jovyan/nltk_data...\n",
      "[nltk_data]   Package vader_lexicon is already up-to-date!\n"
     ]
    }
   ],
   "source": [
    "import pandas as pd\n",
    "import nltk\n",
    "from nltk.tokenize import word_tokenize, sent_tokenize\n",
    "from nltk.corpus import stopwords\n",
    "from string import punctuation\n",
    "nltk.download('stopwords')\n",
    "from nltk.probability import FreqDist\n",
    "from nltk.stem import WordNetLemmatizer\n",
    "from nltk.sentiment import vader\n",
    "nltk.download('vader_lexicon')\n",
    "import numpy as np\n",
    "import matplotlib.pyplot as plt\n",
    "from nltk.corpus import PlaintextCorpusReader"
   ]
  },
  {
   "cell_type": "code",
   "execution_count": 2,
   "id": "11c7af93-bcce-4b98-8450-547928a10c6c",
   "metadata": {},
   "outputs": [],
   "source": [
    "sia = vader.SentimentIntensityAnalyzer()"
   ]
  },
  {
   "cell_type": "code",
   "execution_count": 3,
   "id": "b222a19e-5312-4019-8b65-554a94cb42fe",
   "metadata": {},
   "outputs": [],
   "source": [
    "# read in Maria Martin text\n",
    "maria = open('Maria Martin.txt','r')\n",
    "\n",
    "#print(maria.read())"
   ]
  },
  {
   "cell_type": "code",
   "execution_count": 4,
   "id": "f44275d1-3472-4f20-abd4-72082c79caf4",
   "metadata": {},
   "outputs": [
    {
     "data": {
      "text/plain": [
       "{'neg': 0.101, 'neu': 0.799, 'pos': 0.1, 'compound': -0.9894}"
      ]
     },
     "execution_count": 4,
     "metadata": {},
     "output_type": "execute_result"
    }
   ],
   "source": [
    "# Maria Martin text polarity score\n",
    "sia.polarity_scores(maria.read())"
   ]
  },
  {
   "cell_type": "code",
   "execution_count": 5,
   "id": "6a22bdb2-c650-467a-8704-4a42b2e19ae6",
   "metadata": {},
   "outputs": [],
   "source": [
    "# read in Thomas Pellow text\n",
    "pellow = open('Thomas Pellow.txt', 'r')\n",
    "\n",
    "#print(pellow.read())"
   ]
  },
  {
   "cell_type": "code",
   "execution_count": 6,
   "id": "141b979a-2cf7-4326-9622-011bbf4bb4ee",
   "metadata": {},
   "outputs": [
    {
     "data": {
      "text/plain": [
       "{'neg': 0.081, 'neu': 0.803, 'pos': 0.117, 'compound': 1.0}"
      ]
     },
     "execution_count": 6,
     "metadata": {},
     "output_type": "execute_result"
    }
   ],
   "source": [
    "# Thomas Pellow text polarity score\n",
    "sia.polarity_scores(pellow.read())"
   ]
  },
  {
   "cell_type": "code",
   "execution_count": 7,
   "id": "d55f8746-a106-4974-90ef-cfddcffb0a0d",
   "metadata": {},
   "outputs": [],
   "source": [
    "# read in Thomas Phelps text\n",
    "phelps = open('thomas phelps.txt', 'r')\n",
    "\n",
    "#print(phelps.read())"
   ]
  },
  {
   "cell_type": "code",
   "execution_count": 8,
   "id": "aef7539d-637b-4962-b1f1-cb92b0141ccc",
   "metadata": {},
   "outputs": [
    {
     "data": {
      "text/plain": [
       "{'neg': 0.053, 'neu': 0.862, 'pos': 0.085, 'compound': 0.9999}"
      ]
     },
     "execution_count": 8,
     "metadata": {},
     "output_type": "execute_result"
    }
   ],
   "source": [
    "# Thomas Phelps text polarity score\n",
    "sia.polarity_scores(phelps.read())"
   ]
  },
  {
   "cell_type": "code",
   "execution_count": 9,
   "id": "419e0a66-d954-483e-a470-08e1e1a24acf",
   "metadata": {},
   "outputs": [],
   "source": [
    "# read in Updike Underhill text\n",
    "updike = open('Updike.txt', 'r')\n",
    "\n",
    "#print(updike.read())"
   ]
  },
  {
   "cell_type": "code",
   "execution_count": 10,
   "id": "b2b2f87e-c0b7-45ce-baf4-1bb26353d753",
   "metadata": {},
   "outputs": [
    {
     "data": {
      "text/plain": [
       "{'neg': 0.089, 'neu': 0.777, 'pos': 0.134, 'compound': 1.0}"
      ]
     },
     "execution_count": 10,
     "metadata": {},
     "output_type": "execute_result"
    }
   ],
   "source": [
    "# Updike Underhill text polarity score\n",
    "sia.polarity_scores(updike.read())"
   ]
  }
 ],
 "metadata": {
  "kernelspec": {
   "display_name": "Python 3 (ipykernel)",
   "language": "python",
   "name": "python3"
  },
  "language_info": {
   "codemirror_mode": {
    "name": "ipython",
    "version": 3
   },
   "file_extension": ".py",
   "mimetype": "text/x-python",
   "name": "python",
   "nbconvert_exporter": "python",
   "pygments_lexer": "ipython3",
   "version": "3.9.6"
  }
 },
 "nbformat": 4,
 "nbformat_minor": 5
}
