{
 "cells": [
  {
   "cell_type": "code",
   "execution_count": 6,
   "metadata": {},
   "outputs": [],
   "source": [
    "import requests\n",
    "import vaderSentiment\n",
    "import pandas as pd\n",
    "import numpy\n",
    "import matplotlib\n",
    "\n",
    "file1 = open(\"Combined.txt\",\"r\",encoding='utf-8')\n",
    "text = file1.read()\n",
    "file1.close()"
   ]
  },
  {
   "cell_type": "code",
   "execution_count": 7,
   "metadata": {},
   "outputs": [],
   "source": [
    "from nltk.sentiment import vader\n",
    "\n",
    "#initialize empty list \n",
    "sentiments = []\n",
    "#initialize sentiment analyzer\n",
    "sid = vader.SentimentIntensityAnalyzer()\n",
    "sentiment = sid.polarity_scores(text)\n",
    "sentimentCol = \"\"\n",
    "sentimentScore = 0"
   ]
  },
  {
   "cell_type": "code",
   "execution_count": 8,
   "metadata": {},
   "outputs": [
    {
     "name": "stdout",
     "output_type": "stream",
     "text": [
      "[[0.085, 0.121, 0.794, 1.0, 'Positive', 1]]\n"
     ]
    }
   ],
   "source": [
    "# give text an overall positive/negative label based on compound score thresholds\n",
    "if sentiment['compound'] <= -0.05:\n",
    "    sentimentCol = \"Negative\"\n",
    "    sentimentScore = -1\n",
    "elif sentiment['compound'] >= 0.05:\n",
    "    sentimentCol = \"Positive\"\n",
    "    sentimentScore = 1\n",
    "else:\n",
    "    sentimentCol = \"Neutral\"\n",
    "sentiments.append([sentiment['neg'], sentiment['pos'], sentiment['neu'], sentiment['compound'], sentimentCol, sentimentScore])\n",
    "\n",
    "print(sentiments)"
   ]
  }
 ],
 "metadata": {
  "kernelspec": {
   "display_name": "Python 3",
   "language": "python",
   "name": "python3"
  },
  "language_info": {
   "codemirror_mode": {
    "name": "ipython",
    "version": 3
   },
   "file_extension": ".py",
   "mimetype": "text/x-python",
   "name": "python",
   "nbconvert_exporter": "python",
   "pygments_lexer": "ipython3",
   "version": "3.8.5"
  }
 },
 "nbformat": 4,
 "nbformat_minor": 4
}
